{
  "nbformat": 4,
  "nbformat_minor": 0,
  "metadata": {
    "colab": {
      "provenance": []
    },
    "kernelspec": {
      "name": "python3",
      "display_name": "Python 3"
    },
    "language_info": {
      "name": "python"
    }
  },
  "cells": [
    {
      "cell_type": "code",
      "execution_count": null,
      "metadata": {
        "id": "cx537b8ha1zs"
      },
      "outputs": [],
      "source": [
        "#pip install langchain\n",
        "#pip install openai\n",
        "#pip install llm\n",
        "#pip install langchain.agents"
      ]
    },
    {
      "cell_type": "code",
      "source": [
        "# Importing libraries and modules\n",
        "import os\n",
        "import datetime\n",
        "import openai\n",
        "from langchain.llms import OpenAI\n",
        "from langchain.agents import initialize_agent\n",
        "from langchain.agents.agent_toolkits import ZapierToolkit\n",
        "from langchain.utilities.zapier import ZapierNLAWrapper\n",
        "from langchain.agents import Tool\n",
        "from langchain.memory import ConversationBufferMemory\n",
        "from langchain.chat_models import ChatOpenAI\n",
        "from langchain import LLMChain\n",
        "from langchain.agents import Tool, AgentExecutor\n",
        "from langchain.prompts.chat import (\n",
        "    ChatPromptTemplate,\n",
        "    MessagesPlaceholder,\n",
        "    SystemMessagePromptTemplate,\n",
        "    HumanMessagePromptTemplate,\n",
        ")\n",
        "\n",
        "from langchain import PromptTemplate"
      ],
      "metadata": {
        "id": "fwQ5HnNSbLyI"
      },
      "execution_count": null,
      "outputs": []
    },
    {
      "cell_type": "code",
      "source": [
        "#Input your API key for Open AI and Zapier\n",
        "os.environ[\"OPENAI_API_KEY\"] = \"******\"\n",
        "os.environ[\"ZAPIER_NLA_API_KEY\"] = \"*****\""
      ],
      "metadata": {
        "id": "cl5cc4iDbhzt"
      },
      "execution_count": null,
      "outputs": []
    },
    {
      "cell_type": "code",
      "source": [
        "#Template 1 for Chatbot\n",
        "template_1 = \"\"\"\n",
        "\n",
        "Do not generate user responses on your own and avoid repeating questions.\n",
        "\n",
        "You are a helpful scheduling assistant. Your only task is to help user schedule a service appointment with a bank.\n",
        "Bank only provides these services: opening an account, providing loans or deposit money. Bank is open from 8 am to 5 pm EST everyday and are available to book as long as it is open.\n",
        "To schedule a meeting, you need to collect information in the conversation such as full name, service type, location, datetime and email address.\n",
        "Collect all of the information one by one, and do not ask for service type again if user has stated it in the conversation before.\n",
        "Allow users to input time in any format, and you'll save it in a EST 24-hours format in the backend to display at the end.\n",
        "After collecting all of the information, make sure you display the details to the user at the end in this format:\n",
        "\n",
        "Full Name:\n",
        "Service Type:\n",
        "Location:\n",
        "dateime:\n",
        "Email Address:\n",
        "\n",
        "Respond with just 'Thank you for choosing us' at the end.\n",
        "\n",
        "{chat_history}\n",
        "\n",
        "\"\"\""
      ],
      "metadata": {
        "id": "GgTnlCTDbeCZ"
      },
      "execution_count": null,
      "outputs": []
    },
    {
      "cell_type": "code",
      "source": [
        "system_message_prompt = SystemMessagePromptTemplate.from_template(template_1)\n",
        "human_template=\"{query}\"\n",
        "human_message_prompt = HumanMessagePromptTemplate.from_template(human_template)\n",
        "chat_prompt = ChatPromptTemplate.from_messages([system_message_prompt,human_message_prompt])"
      ],
      "metadata": {
        "id": "DflBTGolbgN5"
      },
      "execution_count": null,
      "outputs": []
    },
    {
      "cell_type": "code",
      "source": [
        "#Chat Chain\n",
        "def gpt_response(query):\n",
        "    chain = LLMChain(llm = chat, prompt = chat_prompt, memory = memory)\n",
        "    response = chain.run(query)\n",
        "    return response\n",
        "\n",
        "#Agent Chain\n",
        "agent_chain = initialize_agent(tools, llm = chat, agent = \"zero-shot-react-description\", verbose = True)"
      ],
      "metadata": {
        "id": "t-12EO6ybv62"
      },
      "execution_count": null,
      "outputs": []
    },
    {
      "cell_type": "code",
      "source": [
        "#Assigning model and tools\n",
        "chat = ChatOpenAI(model=\"gpt-4o\",temperature=0.7)\n",
        "memory = ConversationBufferMemory(memory_key=\"chat_history\")\n",
        "zapier = ZapierNLAWrapper()\n",
        "toolkit = ZapierToolkit.from_zapier_nla_wrapper(zapier)\n",
        "tools = toolkit.get_tools()"
      ],
      "metadata": {
        "id": "O3pUuIbrb2cE"
      },
      "execution_count": null,
      "outputs": []
    },
    {
      "cell_type": "code",
      "source": [
        "#Extract Function\n",
        "import re\n",
        "def extract_information(conversation, pattern):\n",
        "    for line in conversation:\n",
        "        match = re.search(pattern, line, re.IGNORECASE)\n",
        "        if match:\n",
        "            return match.group(1)\n",
        "    return None"
      ],
      "metadata": {
        "id": "kKlhrkN5b22n"
      },
      "execution_count": 1,
      "outputs": []
    },
    {
      "cell_type": "code",
      "source": [
        "today = datetime.datetime.today()\n",
        "weekday_name = today.strftime('%A')\n",
        "today_date = str(datetime.date.today())"
      ],
      "metadata": {
        "id": "Sx2ldHSRb_Rr"
      },
      "execution_count": null,
      "outputs": []
    },
    {
      "cell_type": "code",
      "source": [
        "#Conversation flow\n",
        "import re\n",
        "conversation = []\n",
        "while True:\n",
        "    query = input(\"Human: \" )\n",
        "    conversation.append('User: ' + query)\n",
        "    output = gpt_response(query)\n",
        "    conversation.append('Bot: ' + output)\n",
        "    print(output)\n",
        "\n",
        "    # Extract name information\n",
        "    pattern_name = r'\\bFull Name:\\s*(.*)'\n",
        "    name = extract_information(conversation, pattern_name)\n",
        "\n",
        "    # Extract service information\n",
        "    pattern_service = r'\\bService Type:\\s*(.*)'\n",
        "    service = extract_information(conversation, pattern_service)\n",
        "\n",
        "    # Extract location information\n",
        "    pattern_location = r'\\bLocation:\\s*(.*)'\n",
        "    location = extract_information(conversation, pattern_location)\n",
        "\n",
        "    # Extract time information\n",
        "    pattern_time = r'\\bdatetime:\\s*(.*)'\n",
        "    datetime = extract_information(conversation, pattern_time)\n",
        "\n",
        "    # Extract email information\n",
        "    pattern_email = r'\\bEmail Address:\\s*(.*)'\n",
        "    email = extract_information(conversation, pattern_email)\n",
        "\n",
        "    #Performing Action\n",
        "    if name and service and location and datetime and email:\n",
        "        conversation.append(\"\"\"\n",
        "\n",
        "                Use {tools} for sending an email to the user provided email address in the below format:\n",
        "\n",
        "                ####\n",
        "\n",
        "                Dear [Full Name],\n",
        "\n",
        "                We hope this email finds you well. We are writing to confirm the details of our scheduled meeting at the Bank.\n",
        "                Please review the information below:\n",
        "\n",
        "                Service Type: [Service Type]\n",
        "                Location: [Location]\n",
        "                datetime: [datetime]\n",
        "\n",
        "                If you have any questions or need to make any changes, please don't hesitate to reach out to us. You can reply to this email or contact us directly at (857)-999 wxyz.\n",
        "\n",
        "                We look forward to meeting with you on [datetime]. Thank you for choosing our services, and I am excited to assist you.\n",
        "\n",
        "                Best regards,\n",
        "\n",
        "                Bank.\n",
        "\n",
        "                ####\n",
        "\n",
        "                Also, make use of this {tools} to schedule a meeting on a google calander based on collected information.\n",
        "\n",
        "                \"\"\"\n",
        "                           )\n",
        "        scheduler = agent_chain.run(conversation)\n",
        "        print(scheduler)\n",
        "        break\n",
        "\n",
        "    if query == \"bye\":\n",
        "        print(\"bye\")\n",
        "        break"
      ],
      "metadata": {
        "id": "g0bkjpTycIHh"
      },
      "execution_count": null,
      "outputs": []
    },
    {
      "cell_type": "code",
      "source": [
        "## Conversation Collected\n",
        "def save_conversation(conversation):\n",
        "    with open('conversation.txt', 'w') as file:\n",
        "        file.write('\\n'.join(conversation))\n",
        "\n",
        "def display_conversation():\n",
        "    with open('conversation.txt', 'r') as file:\n",
        "        conversation = file.readlines()\n",
        "\n",
        "for line in conversation:\n",
        "    print(line.strip())"
      ],
      "metadata": {
        "id": "5my01ugwbRV3"
      },
      "execution_count": null,
      "outputs": []
    }
  ]
}